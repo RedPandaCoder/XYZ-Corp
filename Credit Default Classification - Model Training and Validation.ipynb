{
 "cells": [
  {
   "cell_type": "code",
   "execution_count": 1,
   "id": "14f5015c",
   "metadata": {},
   "outputs": [],
   "source": [
    "import pandas as pd\n",
    "pd.set_option('display.max_columns', 100)\n",
    "pd.set_option('display.max_rows', 100)\n",
    "\n",
    "import numpy as np\n",
    "\n",
    "# Classifiers tested\n",
    "from sklearn.tree import DecisionTreeClassifier\n",
    "from sklearn.ensemble import RandomForestClassifier\n",
    "import xgboost\n",
    "from xgboost import XGBClassifier\n",
    "from sklearn.ensemble import VotingClassifier\n",
    "\n",
    "# Cross Validation\n",
    "from sklearn.model_selection import cross_val_score, GridSearchCV\n",
    "\n",
    "# Regression Metrics\n",
    "from sklearn.metrics import accuracy_score, confusion_matrix, classification_report, roc_curve, roc_auc_score, auc\n",
    "\n",
    "import matplotlib.pyplot as plt\n",
    "import seaborn as sns\n",
    "\n",
    "# saving trained model with pickle\n",
    "import pickle\n",
    "\n",
    "# bespoke cleaning and data_split functions\n",
    "from pre_processing import pre_processing, data_split\n",
    "\n",
    "# Set seed for reproducibility\n",
    "sd = 44"
   ]
  },
  {
   "cell_type": "code",
   "execution_count": 12,
   "id": "0f9e7f24",
   "metadata": {},
   "outputs": [],
   "source": []
  },
  {
   "cell_type": "code",
   "execution_count": 2,
   "id": "88d90f86",
   "metadata": {},
   "outputs": [],
   "source": [
    "# Loading the data - with cleaned and pre-processed features for decision tree based classifiers\n",
    "clean_data, feature_list = pre_processing('data/XYZCorp_LendingData.txt')\n",
    "# Splitting the data and oversampling the training data set\n",
    "X_train, X_test, y_train, y_test = data_split(clean_data, feature_list, random_split = False ,oversample = True)"
   ]
  },
  {
   "cell_type": "code",
   "execution_count": 3,
   "id": "f5272b1b",
   "metadata": {},
   "outputs": [
    {
     "data": {
      "text/plain": [
       "200000"
      ]
     },
     "execution_count": 3,
     "metadata": {},
     "output_type": "execute_result"
    }
   ],
   "source": [
    "len(X_train)"
   ]
  },
  {
   "cell_type": "markdown",
   "id": "953b28cd",
   "metadata": {},
   "source": [
    "### Decision Tree Classifier"
   ]
  },
  {
   "cell_type": "code",
   "execution_count": 7,
   "id": "e094afc9",
   "metadata": {},
   "outputs": [
    {
     "name": "stdout",
     "output_type": "stream",
     "text": [
      "Best Hyperparameter values:\n",
      " {'class_weight': 'balanced', 'max_depth': None, 'max_features': None, 'min_samples_leaf': 5, 'min_samples_split': 2}\n",
      "Best Decision Tree Classifier Score:\n",
      " 0.9954850000000001\n"
     ]
    }
   ],
   "source": [
    "dtc = DecisionTreeClassifier(random_state=sd)\n",
    "\n",
    "params_dt = {'max_depth' : [None, 2,4,6],\n",
    "          'min_samples_split': [2, 5, 10],\n",
    "          'min_samples_leaf' : [1,2,5,10,50],\n",
    "          'max_features' : ['sqrt', None],\n",
    "          'class_weight' : ['balanced']}\n",
    "\n",
    "# Instantiate a 5-fold CV grid search\n",
    "dt_grid = GridSearchCV(estimator=dtc, \n",
    "                       param_grid=params_dt,\n",
    "                       scoring='accuracy',\n",
    "                       cv=5,\n",
    "                       n_jobs=-1)\n",
    "\n",
    "# Fit 'grid_dt' to the training data\n",
    "dt_grid.fit(X_train, y_train)\n",
    "best_dtc = dt_grid.best_estimator_\n",
    "print('Best Hyperparameter values:\\n',dt_grid.best_params_)\n",
    "print('Best Decision Tree Classifier Score:\\n',dt_grid.best_score_)"
   ]
  },
  {
   "cell_type": "code",
   "execution_count": 16,
   "id": "4e50a7cf",
   "metadata": {},
   "outputs": [
    {
     "name": "stdout",
     "output_type": "stream",
     "text": [
      "0.9998132230311567\n"
     ]
    }
   ],
   "source": [
    "# save the model to disk\n",
    "filename = 'saved_models/classification/decision_tree_best_model.sav'\n",
    "pickle.dump(best_dtc, open(filename, 'wb'))"
   ]
  },
  {
   "cell_type": "code",
   "execution_count": 8,
   "id": "f4577dea",
   "metadata": {},
   "outputs": [
    {
     "name": "stdout",
     "output_type": "stream",
     "text": [
      "[[   300     11]\n",
      " [    37 256643]]\n",
      "              precision    recall  f1-score   support\n",
      "\n",
      "           0       1.00      1.00      1.00    256680\n",
      "           1       0.89      0.96      0.93       311\n",
      "\n",
      "    accuracy                           1.00    256991\n",
      "   macro avg       0.95      0.98      0.96    256991\n",
      "weighted avg       1.00      1.00      1.00    256991\n",
      "\n"
     ]
    },
    {
     "data": {
      "image/png": "[encoded data removed]",
      "text/plain": [
       "<Figure size 432x360 with 2 Axes>"
      ]
     },
     "metadata": {
      "needs_background": "light"
     },
     "output_type": "display_data"
    }
   ],
   "source": [
    "y_pred = best_dtc.predict(X_test)\n",
    "print(confusion_matrix(y_test, y_pred,labels=[1,0]))\n",
    "print(classification_report(y_test, y_pred))\n",
    "cf_matrix1 = confusion_matrix(y_test, y_pred)\n",
    "\n",
    "plt.figure(figsize=(6,5))\n",
    "fig = sns.heatmap(cf_matrix1, annot=True, cmap='Purples')\n",
    "plt.xlabel((\"Predicted Label\"))\n",
    "plt.ylabel((\"True Label\"))\n",
    "plt.show()"
   ]
  },
  {
   "cell_type": "markdown",
   "id": "e398fce4",
   "metadata": {},
   "source": [
    "### Random Forest Classifier"
   ]
  },
  {
   "cell_type": "code",
   "execution_count": 9,
   "id": "f4381812",
   "metadata": {},
   "outputs": [
    {
     "name": "stdout",
     "output_type": "stream",
     "text": [
      "Best Hyperparameter values:\n",
      " {'class_weight': 'balanced', 'max_depth': None, 'max_features': None, 'min_samples_leaf': 1, 'min_samples_split': 2, 'n_estimators': 400}\n",
      "Best Random Forest Classifier score:\n",
      " 0.9967279156547029\n"
     ]
    }
   ],
   "source": [
    "rfc = RandomForestClassifier(n_jobs = -1, random_state=sd)\n",
    "\n",
    "params_rf = {'n_estimators': [50, 100, 200, 400],\n",
    "             'min_samples_split': [2, 5],\n",
    "             'min_samples_leaf' : [1,2],\n",
    "             'max_depth': [None, 10],\n",
    "             'max_features': ['sqrt', None],\n",
    "             'class_weight' : ['balanced']}\n",
    "\n",
    "# Instantiate a 5-fold CV grid search\n",
    "rf_grid = GridSearchCV(estimator=rfc, \n",
    "                       param_grid=params_rf,\n",
    "                       scoring='f1',\n",
    "                       cv=5,\n",
    "                       n_jobs=-1)\n",
    "\n",
    "# Fit 'grid_dt' to the training data\n",
    "rf_grid.fit(X_train, y_train)\n",
    "best_rfc = rf_grid.best_estimator_\n",
    "print('Best Hyperparameter values:\\n',rf_grid.best_params_)\n",
    "print('Best Random Forest Classifier score:\\n',rf_grid.best_score_)"
   ]
  },
  {
   "cell_type": "code",
   "execution_count": 10,
   "id": "aadb8b80",
   "metadata": {},
   "outputs": [
    {
     "name": "stdout",
     "output_type": "stream",
     "text": [
      "0.995891 (0.003274) with: {'class_weight': 'balanced', 'max_depth': None, 'max_features': 'sqrt', 'min_samples_leaf': 1, 'min_samples_split': 2, 'n_estimators': 50}\n",
      "0.996294 (0.003055) with: {'class_weight': 'balanced', 'max_depth': None, 'max_features': 'sqrt', 'min_samples_leaf': 1, 'min_samples_split': 2, 'n_estimators': 100}\n",
      "0.996381 (0.002964) with: {'class_weight': 'balanced', 'max_depth': None, 'max_features': 'sqrt', 'min_samples_leaf': 1, 'min_samples_split': 2, 'n_estimators': 200}\n",
      "0.996356 (0.002973) with: {'class_weight': 'balanced', 'max_depth': None, 'max_features': 'sqrt', 'min_samples_leaf': 1, 'min_samples_split': 2, 'n_estimators': 400}\n",
      "0.995988 (0.003060) with: {'class_weight': 'balanced', 'max_depth': None, 'max_features': 'sqrt', 'min_samples_leaf': 1, 'min_samples_split': 5, 'n_estimators': 50}\n",
      "0.996210 (0.002947) with: {'class_weight': 'balanced', 'max_depth': None, 'max_features': 'sqrt', 'min_samples_leaf': 1, 'min_samples_split': 5, 'n_estimators': 100}\n",
      "0.996296 (0.002918) with: {'class_weight': 'balanced', 'max_depth': None, 'max_features': 'sqrt', 'min_samples_leaf': 1, 'min_samples_split': 5, 'n_estimators': 200}\n",
      "0.996285 (0.002940) with: {'class_weight': 'balanced', 'max_depth': None, 'max_features': 'sqrt', 'min_samples_leaf': 1, 'min_samples_split': 5, 'n_estimators': 400}\n",
      "0.995892 (0.003192) with: {'class_weight': 'balanced', 'max_depth': None, 'max_features': 'sqrt', 'min_samples_leaf': 2, 'min_samples_split': 2, 'n_estimators': 50}\n",
      "0.996240 (0.002948) with: {'class_weight': 'balanced', 'max_depth': None, 'max_features': 'sqrt', 'min_samples_leaf': 2, 'min_samples_split': 2, 'n_estimators': 100}\n",
      "0.996215 (0.003008) with: {'class_weight': 'balanced', 'max_depth': None, 'max_features': 'sqrt', 'min_samples_leaf': 2, 'min_samples_split': 2, 'n_estimators': 200}\n",
      "0.996250 (0.002961) with: {'class_weight': 'balanced', 'max_depth': None, 'max_features': 'sqrt', 'min_samples_leaf': 2, 'min_samples_split': 2, 'n_estimators': 400}\n",
      "0.995927 (0.003235) with: {'class_weight': 'balanced', 'max_depth': None, 'max_features': 'sqrt', 'min_samples_leaf': 2, 'min_samples_split': 5, 'n_estimators': 50}\n",
      "0.996170 (0.002888) with: {'class_weight': 'balanced', 'max_depth': None, 'max_features': 'sqrt', 'min_samples_leaf': 2, 'min_samples_split': 5, 'n_estimators': 100}\n",
      "0.996231 (0.002842) with: {'class_weight': 'balanced', 'max_depth': None, 'max_features': 'sqrt', 'min_samples_leaf': 2, 'min_samples_split': 5, 'n_estimators': 200}\n",
      "0.996215 (0.002979) with: {'class_weight': 'balanced', 'max_depth': None, 'max_features': 'sqrt', 'min_samples_leaf': 2, 'min_samples_split': 5, 'n_estimators': 400}\n",
      "0.996547 (0.002098) with: {'class_weight': 'balanced', 'max_depth': None, 'max_features': None, 'min_samples_leaf': 1, 'min_samples_split': 2, 'n_estimators': 50}\n",
      "0.996607 (0.002035) with: {'class_weight': 'balanced', 'max_depth': None, 'max_features': None, 'min_samples_leaf': 1, 'min_samples_split': 2, 'n_estimators': 100}\n",
      "0.996652 (0.002018) with: {'class_weight': 'balanced', 'max_depth': None, 'max_features': None, 'min_samples_leaf': 1, 'min_samples_split': 2, 'n_estimators': 200}\n",
      "0.996728 (0.001968) with: {'class_weight': 'balanced', 'max_depth': None, 'max_features': None, 'min_samples_leaf': 1, 'min_samples_split': 2, 'n_estimators': 400}\n",
      "0.996531 (0.002125) with: {'class_weight': 'balanced', 'max_depth': None, 'max_features': None, 'min_samples_leaf': 1, 'min_samples_split': 5, 'n_estimators': 50}\n",
      "0.996547 (0.002100) with: {'class_weight': 'balanced', 'max_depth': None, 'max_features': None, 'min_samples_leaf': 1, 'min_samples_split': 5, 'n_estimators': 100}\n",
      "0.996627 (0.002014) with: {'class_weight': 'balanced', 'max_depth': None, 'max_features': None, 'min_samples_leaf': 1, 'min_samples_split': 5, 'n_estimators': 200}\n",
      "0.996698 (0.001971) with: {'class_weight': 'balanced', 'max_depth': None, 'max_features': None, 'min_samples_leaf': 1, 'min_samples_split': 5, 'n_estimators': 400}\n",
      "0.996537 (0.002081) with: {'class_weight': 'balanced', 'max_depth': None, 'max_features': None, 'min_samples_leaf': 2, 'min_samples_split': 2, 'n_estimators': 50}\n",
      "0.996526 (0.002098) with: {'class_weight': 'balanced', 'max_depth': None, 'max_features': None, 'min_samples_leaf': 2, 'min_samples_split': 2, 'n_estimators': 100}\n",
      "0.996592 (0.002084) with: {'class_weight': 'balanced', 'max_depth': None, 'max_features': None, 'min_samples_leaf': 2, 'min_samples_split': 2, 'n_estimators': 200}\n",
      "0.996667 (0.002004) with: {'class_weight': 'balanced', 'max_depth': None, 'max_features': None, 'min_samples_leaf': 2, 'min_samples_split': 2, 'n_estimators': 400}\n",
      "0.996521 (0.002108) with: {'class_weight': 'balanced', 'max_depth': None, 'max_features': None, 'min_samples_leaf': 2, 'min_samples_split': 5, 'n_estimators': 50}\n",
      "0.996511 (0.002138) with: {'class_weight': 'balanced', 'max_depth': None, 'max_features': None, 'min_samples_leaf': 2, 'min_samples_split': 5, 'n_estimators': 100}\n",
      "0.996582 (0.002077) with: {'class_weight': 'balanced', 'max_depth': None, 'max_features': None, 'min_samples_leaf': 2, 'min_samples_split': 5, 'n_estimators': 200}\n",
      "0.996667 (0.001991) with: {'class_weight': 'balanced', 'max_depth': None, 'max_features': None, 'min_samples_leaf': 2, 'min_samples_split': 5, 'n_estimators': 400}\n",
      "0.990482 (0.002442) with: {'class_weight': 'balanced', 'max_depth': 10, 'max_features': 'sqrt', 'min_samples_leaf': 1, 'min_samples_split': 2, 'n_estimators': 50}\n",
      "0.991229 (0.002409) with: {'class_weight': 'balanced', 'max_depth': 10, 'max_features': 'sqrt', 'min_samples_leaf': 1, 'min_samples_split': 2, 'n_estimators': 100}\n",
      "0.990851 (0.002093) with: {'class_weight': 'balanced', 'max_depth': 10, 'max_features': 'sqrt', 'min_samples_leaf': 1, 'min_samples_split': 2, 'n_estimators': 200}\n",
      "0.990983 (0.002189) with: {'class_weight': 'balanced', 'max_depth': 10, 'max_features': 'sqrt', 'min_samples_leaf': 1, 'min_samples_split': 2, 'n_estimators': 400}\n",
      "0.990819 (0.002479) with: {'class_weight': 'balanced', 'max_depth': 10, 'max_features': 'sqrt', 'min_samples_leaf': 1, 'min_samples_split': 5, 'n_estimators': 50}\n",
      "0.991271 (0.002223) with: {'class_weight': 'balanced', 'max_depth': 10, 'max_features': 'sqrt', 'min_samples_leaf': 1, 'min_samples_split': 5, 'n_estimators': 100}\n",
      "0.991054 (0.002050) with: {'class_weight': 'balanced', 'max_depth': 10, 'max_features': 'sqrt', 'min_samples_leaf': 1, 'min_samples_split': 5, 'n_estimators': 200}\n",
      "0.991025 (0.001891) with: {'class_weight': 'balanced', 'max_depth': 10, 'max_features': 'sqrt', 'min_samples_leaf': 1, 'min_samples_split': 5, 'n_estimators': 400}\n",
      "0.990509 (0.002524) with: {'class_weight': 'balanced', 'max_depth': 10, 'max_features': 'sqrt', 'min_samples_leaf': 2, 'min_samples_split': 2, 'n_estimators': 50}\n",
      "0.990964 (0.002016) with: {'class_weight': 'balanced', 'max_depth': 10, 'max_features': 'sqrt', 'min_samples_leaf': 2, 'min_samples_split': 2, 'n_estimators': 100}\n",
      "0.990788 (0.002142) with: {'class_weight': 'balanced', 'max_depth': 10, 'max_features': 'sqrt', 'min_samples_leaf': 2, 'min_samples_split': 2, 'n_estimators': 200}\n",
      "0.990852 (0.002076) with: {'class_weight': 'balanced', 'max_depth': 10, 'max_features': 'sqrt', 'min_samples_leaf': 2, 'min_samples_split': 2, 'n_estimators': 400}\n",
      "0.990782 (0.002392) with: {'class_weight': 'balanced', 'max_depth': 10, 'max_features': 'sqrt', 'min_samples_leaf': 2, 'min_samples_split': 5, 'n_estimators': 50}\n",
      "0.991242 (0.002273) with: {'class_weight': 'balanced', 'max_depth': 10, 'max_features': 'sqrt', 'min_samples_leaf': 2, 'min_samples_split': 5, 'n_estimators': 100}\n",
      "0.990758 (0.002075) with: {'class_weight': 'balanced', 'max_depth': 10, 'max_features': 'sqrt', 'min_samples_leaf': 2, 'min_samples_split': 5, 'n_estimators': 200}\n",
      "0.991040 (0.002087) with: {'class_weight': 'balanced', 'max_depth': 10, 'max_features': 'sqrt', 'min_samples_leaf': 2, 'min_samples_split': 5, 'n_estimators': 400}\n",
      "0.994707 (0.002340) with: {'class_weight': 'balanced', 'max_depth': 10, 'max_features': None, 'min_samples_leaf': 1, 'min_samples_split': 2, 'n_estimators': 50}\n",
      "0.994682 (0.002379) with: {'class_weight': 'balanced', 'max_depth': 10, 'max_features': None, 'min_samples_leaf': 1, 'min_samples_split': 2, 'n_estimators': 100}\n",
      "0.994636 (0.002382) with: {'class_weight': 'balanced', 'max_depth': 10, 'max_features': None, 'min_samples_leaf': 1, 'min_samples_split': 2, 'n_estimators': 200}\n",
      "0.994677 (0.002373) with: {'class_weight': 'balanced', 'max_depth': 10, 'max_features': None, 'min_samples_leaf': 1, 'min_samples_split': 2, 'n_estimators': 400}\n",
      "0.994721 (0.002358) with: {'class_weight': 'balanced', 'max_depth': 10, 'max_features': None, 'min_samples_leaf': 1, 'min_samples_split': 5, 'n_estimators': 50}\n",
      "0.994722 (0.002381) with: {'class_weight': 'balanced', 'max_depth': 10, 'max_features': None, 'min_samples_leaf': 1, 'min_samples_split': 5, 'n_estimators': 100}\n",
      "0.994651 (0.002404) with: {'class_weight': 'balanced', 'max_depth': 10, 'max_features': None, 'min_samples_leaf': 1, 'min_samples_split': 5, 'n_estimators': 200}\n",
      "0.994692 (0.002364) with: {'class_weight': 'balanced', 'max_depth': 10, 'max_features': None, 'min_samples_leaf': 1, 'min_samples_split': 5, 'n_estimators': 400}\n",
      "0.994802 (0.002363) with: {'class_weight': 'balanced', 'max_depth': 10, 'max_features': None, 'min_samples_leaf': 2, 'min_samples_split': 2, 'n_estimators': 50}\n",
      "0.994767 (0.002394) with: {'class_weight': 'balanced', 'max_depth': 10, 'max_features': None, 'min_samples_leaf': 2, 'min_samples_split': 2, 'n_estimators': 100}\n",
      "0.994692 (0.002365) with: {'class_weight': 'balanced', 'max_depth': 10, 'max_features': None, 'min_samples_leaf': 2, 'min_samples_split': 2, 'n_estimators': 200}\n",
      "0.994768 (0.002287) with: {'class_weight': 'balanced', 'max_depth': 10, 'max_features': None, 'min_samples_leaf': 2, 'min_samples_split': 2, 'n_estimators': 400}\n",
      "0.994797 (0.002340) with: {'class_weight': 'balanced', 'max_depth': 10, 'max_features': None, 'min_samples_leaf': 2, 'min_samples_split': 5, 'n_estimators': 50}\n",
      "0.994772 (0.002371) with: {'class_weight': 'balanced', 'max_depth': 10, 'max_features': None, 'min_samples_leaf': 2, 'min_samples_split': 5, 'n_estimators': 100}\n",
      "0.994697 (0.002371) with: {'class_weight': 'balanced', 'max_depth': 10, 'max_features': None, 'min_samples_leaf': 2, 'min_samples_split': 5, 'n_estimators': 200}\n",
      "0.994763 (0.002286) with: {'class_weight': 'balanced', 'max_depth': 10, 'max_features': None, 'min_samples_leaf': 2, 'min_samples_split': 5, 'n_estimators': 400}\n"
     ]
    }
   ],
   "source": [
    "# printing all tested parameters\n",
    "means = rf_grid.cv_results_['mean_test_score']\n",
    "stds = rf_grid.cv_results_['std_test_score']\n",
    "params = rf_grid.cv_results_['params']\n",
    "for mean, stdev, param in zip(means, stds, params):\n",
    "    print(\"%f (%f) with: %r\" % (mean, stdev, param))"
   ]
  },
  {
   "cell_type": "code",
   "execution_count": 65,
   "id": "6df67144",
   "metadata": {},
   "outputs": [],
   "source": [
    "# save the model whole RF Gridto disk\n",
    "filename = 'saved_models/classification/random_forest_cv_grid.sav'\n",
    "pickle.dump(rf_grid, open(filename, 'wb'))\n",
    "\n",
    "# save the best RF model to disk\n",
    "filename = 'saved_models/classification/random_forest_best_classifier.sav'\n",
    "pickle.dump(rf_grid.best_estimator_, open(filename, 'wb'))"
   ]
  },
  {
   "cell_type": "code",
   "execution_count": 11,
   "id": "e3325a42",
   "metadata": {},
   "outputs": [
    {
     "name": "stdout",
     "output_type": "stream",
     "text": [
      "[[   301     10]\n",
      " [    26 256654]]\n",
      "              precision    recall  f1-score   support\n",
      "\n",
      "           0       1.00      1.00      1.00    256680\n",
      "           1       0.92      0.97      0.94       311\n",
      "\n",
      "    accuracy                           1.00    256991\n",
      "   macro avg       0.96      0.98      0.97    256991\n",
      "weighted avg       1.00      1.00      1.00    256991\n",
      "\n"
     ]
    },
    {
     "data": {
      "image/png": "[encoded data removed]",
      "text/plain": [
       "<Figure size 432x360 with 2 Axes>"
      ]
     },
     "metadata": {
      "needs_background": "light"
     },
     "output_type": "display_data"
    }
   ],
   "source": [
    "y_pred = best_rfc.predict(X_test)\n",
    "print(confusion_matrix(y_test, y_pred,labels=[1,0]))\n",
    "print(classification_report(y_test, y_pred))\n",
    "cf_matrix1 = confusion_matrix(y_test, y_pred)\n",
    "\n",
    "plt.figure(figsize=(6,5))\n",
    "fig = sns.heatmap(cf_matrix1, annot=True, cmap='Purples')\n",
    "plt.xlabel((\"Predicted Label\"))\n",
    "plt.ylabel((\"True Label\"))\n",
    "plt.show()"
   ]
  },
  {
   "cell_type": "markdown",
   "id": "19264714",
   "metadata": {},
   "source": [
    "### XGBoost Classifier"
   ]
  },
  {
   "cell_type": "code",
   "execution_count": 24,
   "id": "f71a98bc",
   "metadata": {},
   "outputs": [
    {
     "name": "stderr",
     "output_type": "stream",
     "text": [
      "C:\\Users\\DE7\\anaconda3\\lib\\site-packages\\xgboost\\sklearn.py:1224: UserWarning: The use of label encoder in XGBClassifier is deprecated and will be removed in a future release. To remove this warning, do the following: 1) Pass option use_label_encoder=False when constructing XGBClassifier object; and 2) Encode your labels (y) as integers starting with 0, i.e. 0, 1, 2, ..., [num_class - 1].\n",
      "  warnings.warn(label_encoder_deprecation_msg, UserWarning)\n"
     ]
    },
    {
     "name": "stdout",
     "output_type": "stream",
     "text": [
      "[00:21:31] WARNING: C:/Users/Administrator/workspace/xgboost-win64_release_1.5.1/src/learner.cc:1115: Starting in XGBoost 1.3.0, the default evaluation metric used with the objective 'binary:logistic' was changed from 'error' to 'logloss'. Explicitly set eval_metric if you'd like to restore the old behavior.\n",
      "Best: 0.998108 using {'learning_rate': 0.4, 'max_depth': 5, 'min_child_weight': 1, 'n_estimators': 300, 'scale_pos_weight': 1.0}\n",
      "0.997862 (0.002061) with: {'learning_rate': 0.4, 'max_depth': 5, 'min_child_weight': 1, 'n_estimators': 80, 'scale_pos_weight': 1.0}\n",
      "0.997957 (0.001965) with: {'learning_rate': 0.4, 'max_depth': 5, 'min_child_weight': 1, 'n_estimators': 100, 'scale_pos_weight': 1.0}\n",
      "0.998063 (0.001853) with: {'learning_rate': 0.4, 'max_depth': 5, 'min_child_weight': 1, 'n_estimators': 150, 'scale_pos_weight': 1.0}\n",
      "0.998098 (0.001838) with: {'learning_rate': 0.4, 'max_depth': 5, 'min_child_weight': 1, 'n_estimators': 200, 'scale_pos_weight': 1.0}\n",
      "0.998068 (0.001881) with: {'learning_rate': 0.4, 'max_depth': 5, 'min_child_weight': 1, 'n_estimators': 250, 'scale_pos_weight': 1.0}\n",
      "0.998108 (0.001873) with: {'learning_rate': 0.4, 'max_depth': 5, 'min_child_weight': 1, 'n_estimators': 300, 'scale_pos_weight': 1.0}\n",
      "0.998093 (0.001902) with: {'learning_rate': 0.4, 'max_depth': 5, 'min_child_weight': 1, 'n_estimators': 400, 'scale_pos_weight': 1.0}\n",
      "Increasing over 200 trees gives little benefit\n"
     ]
    }
   ],
   "source": [
    "xgb = XGBClassifier(random_state=sd)\n",
    "\n",
    "params_xgb = {'learning_rate' : [0.4],\n",
    "             'scale_pos_weight' : [(len(y_train)-y_train.sum())/y_train.sum()],\n",
    "             'max_depth' : [5],\n",
    "             'min_child_weight': [1],\n",
    "             'n_estimators' : [80, 100, 150, 200, 250, 300, 400]}\n",
    "\n",
    "# Instantiate a 5-fold CV grid search to find optimum number of trees (n_estimators)\n",
    "xgb_grid = GridSearchCV(estimator=xgb, \n",
    "                       param_grid=params_xgb,\n",
    "                       scoring='f1',\n",
    "                       cv=5,\n",
    "                       n_jobs=-1)\n",
    "\n",
    "# Fit 'grid_dt' to the training data\n",
    "xgb_grid.fit(X_train, y_train)\n",
    "print(\"Best: %f using %s\" % (xgb_grid.best_score_, xgb_grid.best_params_))\n",
    "means = xgb_grid.cv_results_['mean_test_score']\n",
    "stds = xgb_grid.cv_results_['std_test_score']\n",
    "params = xgb_grid.cv_results_['params']\n",
    "for mean, stdev, param in zip(means, stds, params):\n",
    "    print(\"%f (%f) with: %r\" % (mean, stdev, param))\n",
    "print('Increasing over 200 trees gives little benefit')"
   ]
  },
  {
   "cell_type": "code",
   "execution_count": 34,
   "id": "9c2bb44a",
   "metadata": {},
   "outputs": [
    {
     "name": "stderr",
     "output_type": "stream",
     "text": [
      "C:\\Users\\DE7\\anaconda3\\lib\\site-packages\\xgboost\\sklearn.py:1224: UserWarning: The use of label encoder in XGBClassifier is deprecated and will be removed in a future release. To remove this warning, do the following: 1) Pass option use_label_encoder=False when constructing XGBClassifier object; and 2) Encode your labels (y) as integers starting with 0, i.e. 0, 1, 2, ..., [num_class - 1].\n",
      "  warnings.warn(label_encoder_deprecation_msg, UserWarning)\n"
     ]
    },
    {
     "name": "stdout",
     "output_type": "stream",
     "text": [
      "[07:39:32] WARNING: C:/Users/Administrator/workspace/xgboost-win64_release_1.5.1/src/learner.cc:1115: Starting in XGBoost 1.3.0, the default evaluation metric used with the objective 'binary:logistic' was changed from 'error' to 'logloss'. Explicitly set eval_metric if you'd like to restore the old behavior.\n",
      "Best: 0.998129 using {'learning_rate': 0.4, 'max_depth': 9, 'min_child_weight': 3, 'n_estimators': 200, 'scale_pos_weight': 1.0}\n",
      "0.997680 (0.002195) with: {'learning_rate': 0.4, 'max_depth': 3, 'min_child_weight': 1, 'n_estimators': 200, 'scale_pos_weight': 1.0}\n",
      "0.997705 (0.002295) with: {'learning_rate': 0.4, 'max_depth': 3, 'min_child_weight': 3, 'n_estimators': 200, 'scale_pos_weight': 1.0}\n",
      "0.997610 (0.002333) with: {'learning_rate': 0.4, 'max_depth': 3, 'min_child_weight': 5, 'n_estimators': 200, 'scale_pos_weight': 1.0}\n",
      "0.997530 (0.002310) with: {'learning_rate': 0.4, 'max_depth': 3, 'min_child_weight': 7, 'n_estimators': 200, 'scale_pos_weight': 1.0}\n",
      "0.998098 (0.001838) with: {'learning_rate': 0.4, 'max_depth': 5, 'min_child_weight': 1, 'n_estimators': 200, 'scale_pos_weight': 1.0}\n",
      "0.997968 (0.001970) with: {'learning_rate': 0.4, 'max_depth': 5, 'min_child_weight': 3, 'n_estimators': 200, 'scale_pos_weight': 1.0}\n",
      "0.997842 (0.002099) with: {'learning_rate': 0.4, 'max_depth': 5, 'min_child_weight': 5, 'n_estimators': 200, 'scale_pos_weight': 1.0}\n",
      "0.997610 (0.002284) with: {'learning_rate': 0.4, 'max_depth': 5, 'min_child_weight': 7, 'n_estimators': 200, 'scale_pos_weight': 1.0}\n",
      "0.998089 (0.001783) with: {'learning_rate': 0.4, 'max_depth': 7, 'min_child_weight': 1, 'n_estimators': 200, 'scale_pos_weight': 1.0}\n",
      "0.998053 (0.001794) with: {'learning_rate': 0.4, 'max_depth': 7, 'min_child_weight': 3, 'n_estimators': 200, 'scale_pos_weight': 1.0}\n",
      "0.997902 (0.001955) with: {'learning_rate': 0.4, 'max_depth': 7, 'min_child_weight': 5, 'n_estimators': 200, 'scale_pos_weight': 1.0}\n",
      "0.997827 (0.002012) with: {'learning_rate': 0.4, 'max_depth': 7, 'min_child_weight': 7, 'n_estimators': 200, 'scale_pos_weight': 1.0}\n",
      "0.998124 (0.001702) with: {'learning_rate': 0.4, 'max_depth': 9, 'min_child_weight': 1, 'n_estimators': 200, 'scale_pos_weight': 1.0}\n",
      "0.998129 (0.001709) with: {'learning_rate': 0.4, 'max_depth': 9, 'min_child_weight': 3, 'n_estimators': 200, 'scale_pos_weight': 1.0}\n",
      "0.997913 (0.001860) with: {'learning_rate': 0.4, 'max_depth': 9, 'min_child_weight': 5, 'n_estimators': 200, 'scale_pos_weight': 1.0}\n",
      "0.997903 (0.001903) with: {'learning_rate': 0.4, 'max_depth': 9, 'min_child_weight': 7, 'n_estimators': 200, 'scale_pos_weight': 1.0}\n",
      "'max_depth': 9, 'min_child_weight': 3 give best results\n"
     ]
    }
   ],
   "source": [
    "# Tuning max_depth and min_child_weight with set n_estimators\n",
    "params_xgb = {'learning_rate' : [0.4],\n",
    "              'scale_pos_weight' : [(len(y_train)-y_train.sum())/y_train.sum()],\n",
    "              'max_depth':[3, 5, 7, 9],\n",
    "              'min_child_weight':[1,3,5,7],\n",
    "              'n_estimators' : [200],             \n",
    "}\n",
    "\n",
    "xgb_grid = GridSearchCV(estimator=xgb, \n",
    "                       param_grid=params_xgb,\n",
    "                       scoring='f1',\n",
    "                       cv=5,\n",
    "                       n_jobs=-1)\n",
    "\n",
    "xgb_grid.fit(X_train, y_train)\n",
    "print(\"Best: %f using %s\" % (xgb_grid.best_score_, xgb_grid.best_params_))\n",
    "means = xgb_grid.cv_results_['mean_test_score']\n",
    "stds = xgb_grid.cv_results_['std_test_score']\n",
    "params = xgb_grid.cv_results_['params']\n",
    "for mean, stdev, param in zip(means, stds, params):\n",
    "    print(\"%f (%f) with: %r\" % (mean, stdev, param))\n",
    "print(\"'max_depth': 9, 'min_child_weight': 3 give best results\") "
   ]
  },
  {
   "cell_type": "code",
   "execution_count": 35,
   "id": "5ff234df",
   "metadata": {},
   "outputs": [
    {
     "name": "stderr",
     "output_type": "stream",
     "text": [
      "C:\\Users\\DE7\\anaconda3\\lib\\site-packages\\xgboost\\sklearn.py:1224: UserWarning: The use of label encoder in XGBClassifier is deprecated and will be removed in a future release. To remove this warning, do the following: 1) Pass option use_label_encoder=False when constructing XGBClassifier object; and 2) Encode your labels (y) as integers starting with 0, i.e. 0, 1, 2, ..., [num_class - 1].\n",
      "  warnings.warn(label_encoder_deprecation_msg, UserWarning)\n"
     ]
    },
    {
     "name": "stdout",
     "output_type": "stream",
     "text": [
      "[08:08:06] WARNING: C:/Users/Administrator/workspace/xgboost-win64_release_1.5.1/src/learner.cc:1115: Starting in XGBoost 1.3.0, the default evaluation metric used with the objective 'binary:logistic' was changed from 'error' to 'logloss'. Explicitly set eval_metric if you'd like to restore the old behavior.\n",
      "Best: 0.998180 using {'gamma': 0.4, 'learning_rate': 0.4, 'max_depth': 9, 'min_child_weight': 3, 'n_estimators': 200, 'scale_pos_weight': 1.0}\n",
      "0.998129 (0.001709) with: {'gamma': 0.0, 'learning_rate': 0.4, 'max_depth': 9, 'min_child_weight': 3, 'n_estimators': 200, 'scale_pos_weight': 1.0}\n",
      "0.998129 (0.001607) with: {'gamma': 0.1, 'learning_rate': 0.4, 'max_depth': 9, 'min_child_weight': 3, 'n_estimators': 200, 'scale_pos_weight': 1.0}\n",
      "0.998129 (0.001577) with: {'gamma': 0.2, 'learning_rate': 0.4, 'max_depth': 9, 'min_child_weight': 3, 'n_estimators': 200, 'scale_pos_weight': 1.0}\n",
      "0.998069 (0.001599) with: {'gamma': 0.3, 'learning_rate': 0.4, 'max_depth': 9, 'min_child_weight': 3, 'n_estimators': 200, 'scale_pos_weight': 1.0}\n",
      "0.998180 (0.001496) with: {'gamma': 0.4, 'learning_rate': 0.4, 'max_depth': 9, 'min_child_weight': 3, 'n_estimators': 200, 'scale_pos_weight': 1.0}\n",
      "0.998170 (0.001561) with: {'gamma': 0.5, 'learning_rate': 0.4, 'max_depth': 9, 'min_child_weight': 3, 'n_estimators': 200, 'scale_pos_weight': 1.0}\n",
      "Gamma equal to 0 yields best results\n"
     ]
    }
   ],
   "source": [
    "# Tuning gamma\n",
    "params_xgb = {'learning_rate' : [0.4],\n",
    "              'scale_pos_weight' : [(len(y_train)-y_train.sum())/y_train.sum()],\n",
    "              'max_depth':[9],\n",
    "              'min_child_weight':[3],\n",
    "              'n_estimators' : [200],\n",
    "              'gamma' : [0.0, 0.1, 0.2, 0.3, 0.4, 0.5]}\n",
    "\n",
    "xgb_grid = GridSearchCV(estimator=xgb, \n",
    "                       param_grid=params_xgb,\n",
    "                       scoring='f1',\n",
    "                       cv=5,\n",
    "                       n_jobs=-1)\n",
    "\n",
    "xgb_grid.fit(X_train, y_train)\n",
    "print(\"Best: %f using %s\" % (xgb_grid.best_score_, xgb_grid.best_params_))\n",
    "means = xgb_grid.cv_results_['mean_test_score']\n",
    "stds = xgb_grid.cv_results_['std_test_score']\n",
    "params = xgb_grid.cv_results_['params']\n",
    "for mean, stdev, param in zip(means, stds, params):\n",
    "    print(\"%f (%f) with: %r\" % (mean, stdev, param))\n",
    "print('Gamma equal to 0.4 yields best results')"
   ]
  },
  {
   "cell_type": "code",
   "execution_count": 36,
   "id": "4b570955",
   "metadata": {},
   "outputs": [
    {
     "name": "stderr",
     "output_type": "stream",
     "text": [
      "C:\\Users\\DE7\\anaconda3\\lib\\site-packages\\xgboost\\sklearn.py:1224: UserWarning: The use of label encoder in XGBClassifier is deprecated and will be removed in a future release. To remove this warning, do the following: 1) Pass option use_label_encoder=False when constructing XGBClassifier object; and 2) Encode your labels (y) as integers starting with 0, i.e. 0, 1, 2, ..., [num_class - 1].\n",
      "  warnings.warn(label_encoder_deprecation_msg, UserWarning)\n"
     ]
    },
    {
     "name": "stdout",
     "output_type": "stream",
     "text": [
      "[09:28:50] WARNING: C:/Users/Administrator/workspace/xgboost-win64_release_1.5.1/src/learner.cc:1115: Starting in XGBoost 1.3.0, the default evaluation metric used with the objective 'binary:logistic' was changed from 'error' to 'logloss'. Explicitly set eval_metric if you'd like to restore the old behavior.\n",
      "Best: 0.998194 using {'colsample_bytree': 0.9, 'gamma': 0.0, 'learning_rate': 0.4, 'max_depth': 9, 'min_child_weight': 3, 'n_estimators': 200, 'scale_pos_weight': 1.0, 'subsample': 1.0}\n",
      "0.997646 (0.002120) with: {'colsample_bytree': 0.6, 'gamma': 0.0, 'learning_rate': 0.4, 'max_depth': 9, 'min_child_weight': 3, 'n_estimators': 200, 'scale_pos_weight': 1.0, 'subsample': 0.6}\n",
      "0.997711 (0.002228) with: {'colsample_bytree': 0.6, 'gamma': 0.0, 'learning_rate': 0.4, 'max_depth': 9, 'min_child_weight': 3, 'n_estimators': 200, 'scale_pos_weight': 1.0, 'subsample': 0.7}\n",
      "0.997857 (0.002021) with: {'colsample_bytree': 0.6, 'gamma': 0.0, 'learning_rate': 0.4, 'max_depth': 9, 'min_child_weight': 3, 'n_estimators': 200, 'scale_pos_weight': 1.0, 'subsample': 0.8}\n",
      "0.997837 (0.002027) with: {'colsample_bytree': 0.6, 'gamma': 0.0, 'learning_rate': 0.4, 'max_depth': 9, 'min_child_weight': 3, 'n_estimators': 200, 'scale_pos_weight': 1.0, 'subsample': 0.9}\n",
      "0.998039 (0.001728) with: {'colsample_bytree': 0.6, 'gamma': 0.0, 'learning_rate': 0.4, 'max_depth': 9, 'min_child_weight': 3, 'n_estimators': 200, 'scale_pos_weight': 1.0, 'subsample': 1.0}\n",
      "0.997842 (0.001925) with: {'colsample_bytree': 0.7, 'gamma': 0.0, 'learning_rate': 0.4, 'max_depth': 9, 'min_child_weight': 3, 'n_estimators': 200, 'scale_pos_weight': 1.0, 'subsample': 0.6}\n",
      "0.997806 (0.002081) with: {'colsample_bytree': 0.7, 'gamma': 0.0, 'learning_rate': 0.4, 'max_depth': 9, 'min_child_weight': 3, 'n_estimators': 200, 'scale_pos_weight': 1.0, 'subsample': 0.7}\n",
      "0.997932 (0.001983) with: {'colsample_bytree': 0.7, 'gamma': 0.0, 'learning_rate': 0.4, 'max_depth': 9, 'min_child_weight': 3, 'n_estimators': 200, 'scale_pos_weight': 1.0, 'subsample': 0.8}\n",
      "0.997963 (0.001881) with: {'colsample_bytree': 0.7, 'gamma': 0.0, 'learning_rate': 0.4, 'max_depth': 9, 'min_child_weight': 3, 'n_estimators': 200, 'scale_pos_weight': 1.0, 'subsample': 0.9}\n",
      "0.998169 (0.001640) with: {'colsample_bytree': 0.7, 'gamma': 0.0, 'learning_rate': 0.4, 'max_depth': 9, 'min_child_weight': 3, 'n_estimators': 200, 'scale_pos_weight': 1.0, 'subsample': 1.0}\n",
      "0.997777 (0.002016) with: {'colsample_bytree': 0.8, 'gamma': 0.0, 'learning_rate': 0.4, 'max_depth': 9, 'min_child_weight': 3, 'n_estimators': 200, 'scale_pos_weight': 1.0, 'subsample': 0.6}\n",
      "0.998048 (0.001870) with: {'colsample_bytree': 0.8, 'gamma': 0.0, 'learning_rate': 0.4, 'max_depth': 9, 'min_child_weight': 3, 'n_estimators': 200, 'scale_pos_weight': 1.0, 'subsample': 0.7}\n",
      "0.997998 (0.001858) with: {'colsample_bytree': 0.8, 'gamma': 0.0, 'learning_rate': 0.4, 'max_depth': 9, 'min_child_weight': 3, 'n_estimators': 200, 'scale_pos_weight': 1.0, 'subsample': 0.8}\n",
      "0.998079 (0.001749) with: {'colsample_bytree': 0.8, 'gamma': 0.0, 'learning_rate': 0.4, 'max_depth': 9, 'min_child_weight': 3, 'n_estimators': 200, 'scale_pos_weight': 1.0, 'subsample': 0.9}\n",
      "0.998034 (0.001738) with: {'colsample_bytree': 0.8, 'gamma': 0.0, 'learning_rate': 0.4, 'max_depth': 9, 'min_child_weight': 3, 'n_estimators': 200, 'scale_pos_weight': 1.0, 'subsample': 1.0}\n",
      "0.997938 (0.001874) with: {'colsample_bytree': 0.9, 'gamma': 0.0, 'learning_rate': 0.4, 'max_depth': 9, 'min_child_weight': 3, 'n_estimators': 200, 'scale_pos_weight': 1.0, 'subsample': 0.6}\n",
      "0.997898 (0.001892) with: {'colsample_bytree': 0.9, 'gamma': 0.0, 'learning_rate': 0.4, 'max_depth': 9, 'min_child_weight': 3, 'n_estimators': 200, 'scale_pos_weight': 1.0, 'subsample': 0.7}\n",
      "0.998013 (0.001896) with: {'colsample_bytree': 0.9, 'gamma': 0.0, 'learning_rate': 0.4, 'max_depth': 9, 'min_child_weight': 3, 'n_estimators': 200, 'scale_pos_weight': 1.0, 'subsample': 0.8}\n",
      "0.998099 (0.001737) with: {'colsample_bytree': 0.9, 'gamma': 0.0, 'learning_rate': 0.4, 'max_depth': 9, 'min_child_weight': 3, 'n_estimators': 200, 'scale_pos_weight': 1.0, 'subsample': 0.9}\n",
      "0.998194 (0.001645) with: {'colsample_bytree': 0.9, 'gamma': 0.0, 'learning_rate': 0.4, 'max_depth': 9, 'min_child_weight': 3, 'n_estimators': 200, 'scale_pos_weight': 1.0, 'subsample': 1.0}\n",
      "0.997631 (0.002174) with: {'colsample_bytree': 1.0, 'gamma': 0.0, 'learning_rate': 0.4, 'max_depth': 9, 'min_child_weight': 3, 'n_estimators': 200, 'scale_pos_weight': 1.0, 'subsample': 0.6}\n",
      "0.997882 (0.002026) with: {'colsample_bytree': 1.0, 'gamma': 0.0, 'learning_rate': 0.4, 'max_depth': 9, 'min_child_weight': 3, 'n_estimators': 200, 'scale_pos_weight': 1.0, 'subsample': 0.7}\n",
      "0.997968 (0.001790) with: {'colsample_bytree': 1.0, 'gamma': 0.0, 'learning_rate': 0.4, 'max_depth': 9, 'min_child_weight': 3, 'n_estimators': 200, 'scale_pos_weight': 1.0, 'subsample': 0.8}\n",
      "0.998084 (0.001734) with: {'colsample_bytree': 1.0, 'gamma': 0.0, 'learning_rate': 0.4, 'max_depth': 9, 'min_child_weight': 3, 'n_estimators': 200, 'scale_pos_weight': 1.0, 'subsample': 0.9}\n",
      "0.998129 (0.001709) with: {'colsample_bytree': 1.0, 'gamma': 0.0, 'learning_rate': 0.4, 'max_depth': 9, 'min_child_weight': 3, 'n_estimators': 200, 'scale_pos_weight': 1.0, 'subsample': 1.0}\n",
      "subsample & colsample_bytree equal to 1.0 yields best results\n"
     ]
    }
   ],
   "source": [
    "# Tuning subsample & colsample_bytree\n",
    "params_xgb = {'learning_rate' : [0.4],\n",
    "              'scale_pos_weight' : [(len(y_train)-y_train.sum())/y_train.sum()],\n",
    "              'max_depth':[9],\n",
    "              'min_child_weight':[3],\n",
    "              'n_estimators' : [200],\n",
    "              'gamma' : [0.0],\n",
    "              'subsample':[0.6, 0.7, 0.8, 0.9, 1.0],\n",
    "              'colsample_bytree':[0.6, 0.7, 0.8, 0.9, 1.0]}\n",
    "\n",
    "xgb_grid = GridSearchCV(estimator=xgb, \n",
    "                       param_grid=params_xgb,\n",
    "                       scoring='f1',\n",
    "                       cv=5,\n",
    "                       n_jobs=-1)\n",
    "\n",
    "xgb_grid.fit(X_train, y_train)\n",
    "print(\"Best: %f using %s\" % (xgb_grid.best_score_, xgb_grid.best_params_))\n",
    "means = xgb_grid.cv_results_['mean_test_score']\n",
    "stds = xgb_grid.cv_results_['std_test_score']\n",
    "params = xgb_grid.cv_results_['params']\n",
    "for mean, stdev, param in zip(means, stds, params):\n",
    "    print(\"%f (%f) with: %r\" % (mean, stdev, param))\n",
    "print('subsample & colsample_bytree equal to 1.0 yields best results')"
   ]
  },
  {
   "cell_type": "code",
   "execution_count": 43,
   "id": "db7a6d92",
   "metadata": {},
   "outputs": [
    {
     "name": "stderr",
     "output_type": "stream",
     "text": [
      "C:\\Users\\DE7\\anaconda3\\lib\\site-packages\\xgboost\\sklearn.py:1224: UserWarning: The use of label encoder in XGBClassifier is deprecated and will be removed in a future release. To remove this warning, do the following: 1) Pass option use_label_encoder=False when constructing XGBClassifier object; and 2) Encode your labels (y) as integers starting with 0, i.e. 0, 1, 2, ..., [num_class - 1].\n",
      "  warnings.warn(label_encoder_deprecation_msg, UserWarning)\n"
     ]
    },
    {
     "name": "stdout",
     "output_type": "stream",
     "text": [
      "[12:02:54] WARNING: C:/Users/Administrator/workspace/xgboost-win64_release_1.5.1/src/learner.cc:1115: Starting in XGBoost 1.3.0, the default evaluation metric used with the objective 'binary:logistic' was changed from 'error' to 'logloss'. Explicitly set eval_metric if you'd like to restore the old behavior.\n",
      "Best: 0.998180 using {'colsample_bytree': 1.0, 'gamma': 0.4, 'learning_rate': 0.4, 'max_depth': 9, 'min_child_weight': 3, 'n_estimators': 200, 'scale_pos_weight': 1.0, 'subsample': 1.0}\n",
      "0.998094 (0.001537) with: {'colsample_bytree': 1.0, 'gamma': 0.0, 'learning_rate': 0.1, 'max_depth': 9, 'min_child_weight': 3, 'n_estimators': 200, 'scale_pos_weight': 1.0, 'subsample': 1.0}\n",
      "0.998170 (0.001505) with: {'colsample_bytree': 1.0, 'gamma': 0.0, 'learning_rate': 0.15, 'max_depth': 9, 'min_child_weight': 3, 'n_estimators': 200, 'scale_pos_weight': 1.0, 'subsample': 1.0}\n",
      "0.998139 (0.001625) with: {'colsample_bytree': 1.0, 'gamma': 0.0, 'learning_rate': 0.2, 'max_depth': 9, 'min_child_weight': 3, 'n_estimators': 200, 'scale_pos_weight': 1.0, 'subsample': 1.0}\n",
      "0.998119 (0.001600) with: {'colsample_bytree': 1.0, 'gamma': 0.0, 'learning_rate': 0.25, 'max_depth': 9, 'min_child_weight': 3, 'n_estimators': 200, 'scale_pos_weight': 1.0, 'subsample': 1.0}\n",
      "0.998029 (0.001708) with: {'colsample_bytree': 1.0, 'gamma': 0.0, 'learning_rate': 0.3, 'max_depth': 9, 'min_child_weight': 3, 'n_estimators': 200, 'scale_pos_weight': 1.0, 'subsample': 1.0}\n",
      "0.998084 (0.001607) with: {'colsample_bytree': 1.0, 'gamma': 0.0, 'learning_rate': 0.35, 'max_depth': 9, 'min_child_weight': 3, 'n_estimators': 200, 'scale_pos_weight': 1.0, 'subsample': 1.0}\n",
      "0.998129 (0.001709) with: {'colsample_bytree': 1.0, 'gamma': 0.0, 'learning_rate': 0.4, 'max_depth': 9, 'min_child_weight': 3, 'n_estimators': 200, 'scale_pos_weight': 1.0, 'subsample': 1.0}\n",
      "0.998094 (0.001719) with: {'colsample_bytree': 1.0, 'gamma': 0.0, 'learning_rate': 0.45, 'max_depth': 9, 'min_child_weight': 3, 'n_estimators': 200, 'scale_pos_weight': 1.0, 'subsample': 1.0}\n",
      "0.998054 (0.001725) with: {'colsample_bytree': 1.0, 'gamma': 0.0, 'learning_rate': 0.5, 'max_depth': 9, 'min_child_weight': 3, 'n_estimators': 200, 'scale_pos_weight': 1.0, 'subsample': 1.0}\n",
      "0.998125 (0.001483) with: {'colsample_bytree': 1.0, 'gamma': 0.4, 'learning_rate': 0.1, 'max_depth': 9, 'min_child_weight': 3, 'n_estimators': 200, 'scale_pos_weight': 1.0, 'subsample': 1.0}\n",
      "0.998104 (0.001586) with: {'colsample_bytree': 1.0, 'gamma': 0.4, 'learning_rate': 0.15, 'max_depth': 9, 'min_child_weight': 3, 'n_estimators': 200, 'scale_pos_weight': 1.0, 'subsample': 1.0}\n",
      "0.998124 (0.001632) with: {'colsample_bytree': 1.0, 'gamma': 0.4, 'learning_rate': 0.2, 'max_depth': 9, 'min_child_weight': 3, 'n_estimators': 200, 'scale_pos_weight': 1.0, 'subsample': 1.0}\n",
      "0.998155 (0.001537) with: {'colsample_bytree': 1.0, 'gamma': 0.4, 'learning_rate': 0.25, 'max_depth': 9, 'min_child_weight': 3, 'n_estimators': 200, 'scale_pos_weight': 1.0, 'subsample': 1.0}\n",
      "0.998054 (0.001726) with: {'colsample_bytree': 1.0, 'gamma': 0.4, 'learning_rate': 0.3, 'max_depth': 9, 'min_child_weight': 3, 'n_estimators': 200, 'scale_pos_weight': 1.0, 'subsample': 1.0}\n",
      "0.998099 (0.001592) with: {'colsample_bytree': 1.0, 'gamma': 0.4, 'learning_rate': 0.35, 'max_depth': 9, 'min_child_weight': 3, 'n_estimators': 200, 'scale_pos_weight': 1.0, 'subsample': 1.0}\n",
      "0.998180 (0.001496) with: {'colsample_bytree': 1.0, 'gamma': 0.4, 'learning_rate': 0.4, 'max_depth': 9, 'min_child_weight': 3, 'n_estimators': 200, 'scale_pos_weight': 1.0, 'subsample': 1.0}\n",
      "0.998059 (0.001650) with: {'colsample_bytree': 1.0, 'gamma': 0.4, 'learning_rate': 0.45, 'max_depth': 9, 'min_child_weight': 3, 'n_estimators': 200, 'scale_pos_weight': 1.0, 'subsample': 1.0}\n",
      "0.998034 (0.001595) with: {'colsample_bytree': 1.0, 'gamma': 0.4, 'learning_rate': 0.5, 'max_depth': 9, 'min_child_weight': 3, 'n_estimators': 200, 'scale_pos_weight': 1.0, 'subsample': 1.0}\n",
      "learning rate equal to 0.4 yields best results\n"
     ]
    }
   ],
   "source": [
    "# Tuning the learning rate\n",
    "params_xgb = {'learning_rate' : [0.1,0.15,0.2,0.25,0.3, 0.35, 0.4, 0.45, 0.5],\n",
    "              'scale_pos_weight' : [(len(y_train)-y_train.sum())/y_train.sum()],\n",
    "              'max_depth':[9],\n",
    "              'min_child_weight':[3],\n",
    "              'n_estimators' : [200],\n",
    "              'gamma' : [0.0,0.4],\n",
    "              'subsample':[1.0],\n",
    "              'colsample_bytree':[1.0]}\n",
    "\n",
    "xgb_grid = GridSearchCV(estimator=xgb, \n",
    "                       param_grid=params_xgb,\n",
    "                       scoring='f1',\n",
    "                       cv=5,\n",
    "                       n_jobs=-1)\n",
    "\n",
    "xgb_grid.fit(X_train, y_train)\n",
    "print(\"Best: %f using %s\" % (xgb_grid.best_score_, xgb_grid.best_params_))\n",
    "means = xgb_grid.cv_results_['mean_test_score']\n",
    "stds = xgb_grid.cv_results_['std_test_score']\n",
    "params = xgb_grid.cv_results_['params']\n",
    "for mean, stdev, param in zip(means, stds, params):\n",
    "    print(\"%f (%f) with: %r\" % (mean, stdev, param))\n",
    "print('learning rate equal to 0.4 yields best results')"
   ]
  },
  {
   "cell_type": "code",
   "execution_count": 60,
   "id": "e8752881",
   "metadata": {},
   "outputs": [
    {
     "name": "stderr",
     "output_type": "stream",
     "text": [
      "C:\\Users\\DE7\\anaconda3\\lib\\site-packages\\xgboost\\sklearn.py:1224: UserWarning: The use of label encoder in XGBClassifier is deprecated and will be removed in a future release. To remove this warning, do the following: 1) Pass option use_label_encoder=False when constructing XGBClassifier object; and 2) Encode your labels (y) as integers starting with 0, i.e. 0, 1, 2, ..., [num_class - 1].\n",
      "  warnings.warn(label_encoder_deprecation_msg, UserWarning)\n"
     ]
    },
    {
     "name": "stdout",
     "output_type": "stream",
     "text": [
      "[12:35:40] WARNING: C:/Users/Administrator/workspace/xgboost-win64_release_1.5.1/src/learner.cc:1115: Starting in XGBoost 1.3.0, the default evaluation metric used with the objective 'binary:logistic' was changed from 'error' to 'logloss'. Explicitly set eval_metric if you'd like to restore the old behavior.\n"
     ]
    },
    {
     "data": {
      "text/html": [
       "<style>#sk-container-id-8 {color: black;background-color: white;}#sk-container-id-8 pre{padding: 0;}#sk-container-id-8 div.sk-toggleable {background-color: white;}#sk-container-id-8 label.sk-toggleable__label {cursor: pointer;display: block;width: 100%;margin-bottom: 0;padding: 0.3em;box-sizing: border-box;text-align: center;}#sk-container-id-8 label.sk-toggleable__label-arrow:before {content: \"▸\";float: left;margin-right: 0.25em;color: #696969;}#sk-container-id-8 label.sk-toggleable__label-arrow:hover:before {color: black;}#sk-container-id-8 div.sk-estimator:hover label.sk-toggleable__label-arrow:before {color: black;}#sk-container-id-8 div.sk-toggleable__content {max-height: 0;max-width: 0;overflow: hidden;text-align: left;background-color: #f0f8ff;}#sk-container-id-8 div.sk-toggleable__content pre {margin: 0.2em;color: black;border-radius: 0.25em;background-color: #f0f8ff;}#sk-container-id-8 input.sk-toggleable__control:checked~div.sk-toggleable__content {max-height: 200px;max-width: 100%;overflow: auto;}#sk-container-id-8 input.sk-toggleable__control:checked~label.sk-toggleable__label-arrow:before {content: \"▾\";}#sk-container-id-8 div.sk-estimator input.sk-toggleable__control:checked~label.sk-toggleable__label {background-color: #d4ebff;}#sk-container-id-8 div.sk-label input.sk-toggleable__control:checked~label.sk-toggleable__label {background-color: #d4ebff;}#sk-container-id-8 input.sk-hidden--visually {border: 0;clip: rect(1px 1px 1px 1px);clip: rect(1px, 1px, 1px, 1px);height: 1px;margin: -1px;overflow: hidden;padding: 0;position: absolute;width: 1px;}#sk-container-id-8 div.sk-estimator {font-family: monospace;background-color: #f0f8ff;border: 1px dotted black;border-radius: 0.25em;box-sizing: border-box;margin-bottom: 0.5em;}#sk-container-id-8 div.sk-estimator:hover {background-color: #d4ebff;}#sk-container-id-8 div.sk-parallel-item::after {content: \"\";width: 100%;border-bottom: 1px solid gray;flex-grow: 1;}#sk-container-id-8 div.sk-label:hover label.sk-toggleable__label {background-color: #d4ebff;}#sk-container-id-8 div.sk-serial::before {content: \"\";position: absolute;border-left: 1px solid gray;box-sizing: border-box;top: 0;bottom: 0;left: 50%;z-index: 0;}#sk-container-id-8 div.sk-serial {display: flex;flex-direction: column;align-items: center;background-color: white;padding-right: 0.2em;padding-left: 0.2em;position: relative;}#sk-container-id-8 div.sk-item {position: relative;z-index: 1;}#sk-container-id-8 div.sk-parallel {display: flex;align-items: stretch;justify-content: center;background-color: white;position: relative;}#sk-container-id-8 div.sk-item::before, #sk-container-id-8 div.sk-parallel-item::before {content: \"\";position: absolute;border-left: 1px solid gray;box-sizing: border-box;top: 0;bottom: 0;left: 50%;z-index: -1;}#sk-container-id-8 div.sk-parallel-item {display: flex;flex-direction: column;z-index: 1;position: relative;background-color: white;}#sk-container-id-8 div.sk-parallel-item:first-child::after {align-self: flex-end;width: 50%;}#sk-container-id-8 div.sk-parallel-item:last-child::after {align-self: flex-start;width: 50%;}#sk-container-id-8 div.sk-parallel-item:only-child::after {width: 0;}#sk-container-id-8 div.sk-dashed-wrapped {border: 1px dashed gray;margin: 0 0.4em 0.5em 0.4em;box-sizing: border-box;padding-bottom: 0.4em;background-color: white;}#sk-container-id-8 div.sk-label label {font-family: monospace;font-weight: bold;display: inline-block;line-height: 1.2em;}#sk-container-id-8 div.sk-label-container {text-align: center;}#sk-container-id-8 div.sk-container {/* jupyter's `normalize.less` sets `[hidden] { display: none; }` but bootstrap.min.css set `[hidden] { display: none !important; }` so we also need the `!important` here to be able to override the default hidden behavior on the sphinx rendered scikit-learn.org. See: https://github.com/scikit-learn/scikit-learn/issues/21755 */display: inline-block !important;position: relative;}#sk-container-id-8 div.sk-text-repr-fallback {display: none;}</style><div id=\"sk-container-id-8\" class=\"sk-top-container\"><div class=\"sk-text-repr-fallback\"><pre>XGBClassifier(base_score=0.5, booster=&#x27;gbtree&#x27;, colsample_bylevel=1,\n",
       "              colsample_bynode=1, colsample_bytree=1.0,\n",
       "              enable_categorical=False, gamma=0.0, gpu_id=-1,\n",
       "              importance_type=None, interaction_constraints=&#x27;&#x27;,\n",
       "              learning_rate=0.15, max_delta_step=0, max_depth=9,\n",
       "              min_child_weight=3, missing=nan, monotone_constraints=&#x27;()&#x27;,\n",
       "              n_estimators=200, n_jobs=8, num_parallel_tree=1, predictor=&#x27;auto&#x27;,\n",
       "              random_state=44, reg_alpha=0, reg_lambda=1, scale_pos_weight=1.0,\n",
       "              subsample=1.0, tree_method=&#x27;exact&#x27;, validate_parameters=1,\n",
       "              verbosity=None)</pre><b>In a Jupyter environment, please rerun this cell to show the HTML representation or trust the notebook. <br />On GitHub, the HTML representation is unable to render, please try loading this page with nbviewer.org.</b></div><div class=\"sk-container\" hidden><div class=\"sk-item\"><div class=\"sk-estimator sk-toggleable\"><input class=\"sk-toggleable__control sk-hidden--visually\" id=\"sk-estimator-id-10\" type=\"checkbox\" checked><label for=\"sk-estimator-id-10\" class=\"sk-toggleable__label sk-toggleable__label-arrow\">XGBClassifier</label><div class=\"sk-toggleable__content\"><pre>XGBClassifier(base_score=0.5, booster=&#x27;gbtree&#x27;, colsample_bylevel=1,\n",
       "              colsample_bynode=1, colsample_bytree=1.0,\n",
       "              enable_categorical=False, gamma=0.0, gpu_id=-1,\n",
       "              importance_type=None, interaction_constraints=&#x27;&#x27;,\n",
       "              learning_rate=0.15, max_delta_step=0, max_depth=9,\n",
       "              min_child_weight=3, missing=nan, monotone_constraints=&#x27;()&#x27;,\n",
       "              n_estimators=200, n_jobs=8, num_parallel_tree=1, predictor=&#x27;auto&#x27;,\n",
       "              random_state=44, reg_alpha=0, reg_lambda=1, scale_pos_weight=1.0,\n",
       "              subsample=1.0, tree_method=&#x27;exact&#x27;, validate_parameters=1,\n",
       "              verbosity=None)</pre></div></div></div></div></div>"
      ],
      "text/plain": [
       "XGBClassifier(base_score=0.5, booster='gbtree', colsample_bylevel=1,\n",
       "              colsample_bynode=1, colsample_bytree=1.0,\n",
       "              enable_categorical=False, gamma=0.0, gpu_id=-1,\n",
       "              importance_type=None, interaction_constraints='',\n",
       "              learning_rate=0.15, max_delta_step=0, max_depth=9,\n",
       "              min_child_weight=3, missing=nan, monotone_constraints='()',\n",
       "              n_estimators=200, n_jobs=8, num_parallel_tree=1, predictor='auto',\n",
       "              random_state=44, reg_alpha=0, reg_lambda=1, scale_pos_weight=1.0,\n",
       "              subsample=1.0, tree_method='exact', validate_parameters=1,\n",
       "              verbosity=None)"
      ]
     },
     "execution_count": 60,
     "metadata": {},
     "output_type": "execute_result"
    }
   ],
   "source": [
    "xgb = XGBClassifier(colsample_bytree= 1.0,\n",
    "                    gamma= 0.0,\n",
    "                    learning_rate= 0.15,\n",
    "                    max_depth= 9,\n",
    "                    min_child_weight= 3,\n",
    "                    n_estimators= 200,\n",
    "                    scale_pos_weight= 1.0,\n",
    "                    subsample= 1.0,\n",
    "                    random_state=sd)\n",
    "\n",
    "xgb.fit(X_train, y_train)"
   ]
  },
  {
   "cell_type": "code",
   "execution_count": 61,
   "id": "694072c0",
   "metadata": {},
   "outputs": [
    {
     "name": "stdout",
     "output_type": "stream",
     "text": [
      "[[   301     10]\n",
      " [    27 256653]]\n",
      "              precision    recall  f1-score   support\n",
      "\n",
      "           0       1.00      1.00      1.00    256680\n",
      "           1       0.92      0.97      0.94       311\n",
      "\n",
      "    accuracy                           1.00    256991\n",
      "   macro avg       0.96      0.98      0.97    256991\n",
      "weighted avg       1.00      1.00      1.00    256991\n",
      "\n"
     ]
    },
    {
     "data": {
      "image/png": "[encoded data removed]",
      "text/plain": [
       "<Figure size 432x288 with 2 Axes>"
      ]
     },
     "metadata": {
      "needs_background": "light"
     },
     "output_type": "display_data"
    }
   ],
   "source": [
    "y_pred = xgb.predict(X_test)\n",
    "print(confusion_matrix(y_test, y_pred,labels=[1,0]))\n",
    "print(classification_report(y_test, y_pred))\n",
    "cf_matrix1 = confusion_matrix(y_test, y_pred)\n",
    "\n",
    "\n",
    "fig = sns.heatmap(cf_matrix1, annot=True, cmap='Purples')\n",
    "plt.xlabel((\"Predicted Label\"))\n",
    "plt.ylabel((\"True Label\"))\n",
    "plt.show()"
   ]
  },
  {
   "cell_type": "code",
   "execution_count": 62,
   "id": "277fe5ee",
   "metadata": {},
   "outputs": [],
   "source": [
    "# save the xgboost grid to disk\n",
    "filename = 'saved_models/classification/gxboost_cv_grid.sav'\n",
    "pickle.dump(xgb_grid, open(filename, 'wb'))\n",
    "\n",
    "# save the best gxboost model to disk\n",
    "filename = 'saved_models/classification/gxboost_best.sav'\n",
    "pickle.dump(xgb, open(filename, 'wb'))"
   ]
  },
  {
   "cell_type": "code",
   "execution_count": null,
   "id": "39fd5770",
   "metadata": {},
   "outputs": [],
   "source": [
    "\n",
    "# load the model from disk\n",
    "loaded_model = pickle.load(open(filename, 'rb'))\n",
    "result = loaded_model.best_estimator_.score(X_test, y_test)\n",
    "print(result)"
   ]
  },
  {
   "cell_type": "code",
   "execution_count": 70,
   "id": "813bc3c6",
   "metadata": {},
   "outputs": [
    {
     "name": "stdout",
     "output_type": "stream",
     "text": [
      "Classification Tree     : 0.999813\n",
      "Random Forest     : 0.999860\n",
      "GXBoost     : 0.999856\n"
     ]
    }
   ],
   "source": [
    "# Load individual classifiers\n",
    "best_dtc = pickle.load(open('saved_models/classification/decision_tree_best_model.sav', 'rb'))\n",
    "best_rfc = pickle.load(open('saved_models/classification/random_forest_best_classifier.sav', 'rb'))\n",
    "best_xgb = pickle.load(open('saved_models/classification/gxboost_best.sav', 'rb'))\n",
    "\n",
    "\n",
    "classifiers = [('Classification Tree', best_dtc),\n",
    "               ('Random Forest', best_rfc),\n",
    "               ('GXBoost', best_xgb)]\n",
    "\n",
    "\n",
    "for clf_name, clf in classifiers:\n",
    "    y_pred = clf.predict(X_test)\n",
    "    print('{:s} : {:.6f}'.format(clf_name, accuracy_score(y_test, y_pred)))"
   ]
  },
  {
   "cell_type": "code",
   "execution_count": 71,
   "id": "591658ce",
   "metadata": {},
   "outputs": [
    {
     "name": "stderr",
     "output_type": "stream",
     "text": [
      "C:\\Users\\DE7\\anaconda3\\lib\\site-packages\\xgboost\\sklearn.py:1224: UserWarning: The use of label encoder in XGBClassifier is deprecated and will be removed in a future release. To remove this warning, do the following: 1) Pass option use_label_encoder=False when constructing XGBClassifier object; and 2) Encode your labels (y) as integers starting with 0, i.e. 0, 1, 2, ..., [num_class - 1].\n",
      "  warnings.warn(label_encoder_deprecation_msg, UserWarning)\n"
     ]
    },
    {
     "name": "stdout",
     "output_type": "stream",
     "text": [
      "[12:58:36] WARNING: C:/Users/Administrator/workspace/xgboost-win64_release_1.5.1/src/learner.cc:1115: Starting in XGBoost 1.3.0, the default evaluation metric used with the objective 'binary:logistic' was changed from 'error' to 'logloss'. Explicitly set eval_metric if you'd like to restore the old behavior.\n",
      "Voting Classifier: 0.999868\n"
     ]
    }
   ],
   "source": [
    "# Instantiate a VotingClassifier 'vc'\n",
    "vc = VotingClassifier(estimators=classifiers) \n",
    "# Fit 'vc' to the traing set and predict test set labels\n",
    "vc.fit(X_train, y_train)\n",
    "y_pred = vc.predict(X_test)\n",
    "# Evaluate the test-set accuracy of 'vc'\n",
    "print('Voting Classifier: {:.6f}'.format(accuracy_score(y_test, y_pred)))\n"
   ]
  },
  {
   "cell_type": "code",
   "execution_count": 72,
   "id": "1d6eedb8",
   "metadata": {},
   "outputs": [
    {
     "data": {
      "image/png": "[encoded data removed]",
      "text/plain": [
       "<Figure size 1080x288 with 2 Axes>"
      ]
     },
     "metadata": {
      "needs_background": "light"
     },
     "output_type": "display_data"
    }
   ],
   "source": [
    "cf_matrix1 = confusion_matrix(y_test, y_pred)\n",
    "\n",
    "\n",
    "fig = sns.heatmap(cf_matrix1, annot=True, cmap='Purples')\n",
    "plt.xlabel((\"Predicted Label\"))\n",
    "plt.ylabel((\"True Label\"))\n",
    "plt.show()"
   ]
  },
  {
   "cell_type": "code",
   "execution_count": 75,
   "id": "85c58e47",
   "metadata": {},
   "outputs": [],
   "source": [
    "# save the voting classifier model to disk\n",
    "filename = 'saved_models/classification/voting_classfier.sav'\n",
    "pickle.dump(vc, open(filename, 'wb'))"
   ]
  },
  {
   "cell_type": "code",
   "execution_count": 78,
   "id": "f3ece5af",
   "metadata": {},
   "outputs": [],
   "source": [
    "# Saving common test data for all classifiers\n",
    "X_test.to_csv('classification_test_data/X_test.csv', sep = '|')\n",
    "pd.DataFrame(y_test).to_csv('classification_test_data/y_test.csv', sep = '|')"
   ]
  }
 ],
 "metadata": {
  "kernelspec": {
   "display_name": "Python 3 (ipykernel)",
   "language": "python",
   "name": "python3"
  },
  "language_info": {
   "codemirror_mode": {
    "name": "ipython",
    "version": 3
   },
   "file_extension": ".py",
   "mimetype": "text/x-python",
   "name": "python",
   "nbconvert_exporter": "python",
   "pygments_lexer": "ipython3",
   "version": "3.9.7"
  }
 },
 "nbformat": 4,
 "nbformat_minor": 5
}
