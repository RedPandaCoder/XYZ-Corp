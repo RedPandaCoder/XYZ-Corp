{
 "cells": [
  {
   "cell_type": "code",
   "execution_count": null,
   "id": "24100adf",
   "metadata": {},
   "outputs": [],
   "source": [
    "# Kaggle API and zipfile to download data for the first time. \n",
    "from kaggle.api.kaggle_api_extended import KaggleApi\n",
    "import zipfile"
   ]
  },
  {
   "cell_type": "code",
   "execution_count": null,
   "id": "86246e44",
   "metadata": {},
   "outputs": [],
   "source": [
    "api = KaggleApi()\n",
    "api.authenticate()\n",
    "\n",
    "api.dataset_download_file('sonujha090/xyzcorp-lendingdata',\n",
    "                          file_name='XYZCorp_LendingData.txt',\n",
    "                          path='data')\n",
    "with zipfile.ZipFile('data/XYZCorp_LendingData.txt.zip', 'r') as zipref:\n",
    "    zipref.extractall(\"data\")"
   ]
  }
 ],
 "metadata": {
  "kernelspec": {
   "display_name": "Python 3 (ipykernel)",
   "language": "python",
   "name": "python3"
  },
  "language_info": {
   "codemirror_mode": {
    "name": "ipython",
    "version": 3
   },
   "file_extension": ".py",
   "mimetype": "text/x-python",
   "name": "python",
   "nbconvert_exporter": "python",
   "pygments_lexer": "ipython3",
   "version": "3.9.7"
  }
 },
 "nbformat": 4,
 "nbformat_minor": 5
}
