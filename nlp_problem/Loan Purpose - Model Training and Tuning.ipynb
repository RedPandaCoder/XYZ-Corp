{
 "cells": [
  {
   "cell_type": "code",
   "execution_count": 1,
   "id": "86dc6cd9",
   "metadata": {},
   "outputs": [],
   "source": [
    "import numpy as np\n",
    "import pandas as pd\n",
    "pd.set_option('display.max_columns', 100)\n",
    "pd.set_option('display.max_rows', 100)\n",
    "\n",
    "# preprocessing\n",
    "from sklearn.feature_extraction.text import TfidfVectorizer\n",
    "from sklearn.model_selection import train_test_split\n",
    "\n",
    "# Regression Models considered\n",
    "from sklearn.ensemble import RandomForestClassifier\n",
    "from sklearn.multiclass import OneVsRestClassifier\n",
    "\n",
    "# Pipeline to ensure no mising of train and test data\n",
    "from sklearn.pipeline import Pipeline\n",
    "\n",
    "# # Classification Metrics\n",
    "from sklearn.metrics import confusion_matrix,classification_report\n",
    "\n",
    "# # saving trained model with pickle\n",
    "import pickle\n",
    "\n",
    "# selecting common working idrectory to allow use of pre_processing.py\n",
    "import os\n",
    "os.chdir('/Users/DE7/Desktop/LearningPython/XYZ-Corp')\n",
    "\n",
    "# return current time to track runs for fitting models\n",
    "from datetime import datetime\n",
    "def current_time():\n",
    "    now = datetime.now()\n",
    "    return now.strftime(\"%H:%M:%S\")"
   ]
  },
  {
   "cell_type": "code",
   "execution_count": 2,
   "id": "b721487d-3123-46b2-ad07-d9f1608a8612",
   "metadata": {},
   "outputs": [
    {
     "data": {
      "text/plain": [
       "'16:34:14'"
      ]
     },
     "execution_count": 2,
     "metadata": {},
     "output_type": "execute_result"
    }
   ],
   "source": [
    "current_time()"
   ]
  },
  {
   "cell_type": "code",
   "execution_count": 3,
   "id": "7de1571f",
   "metadata": {},
   "outputs": [],
   "source": [
    "Data = pd.read_csv('data/XYZCorp_LendingData.txt',sep='\\t', low_memory = False)"
   ]
  },
  {
   "cell_type": "code",
   "execution_count": 4,
   "id": "6d596a3c",
   "metadata": {},
   "outputs": [],
   "source": [
    "def loan_intention_group(row):\n",
    "    if row['purpose'] == 'debt_consolidation':\n",
    "        return 'debt_consolidation'\n",
    "    elif row['purpose'] =='credit_card':\n",
    "        return 'debt_consolidation' \n",
    "    elif row['purpose'] =='home_improvement':\n",
    "        return 'house' \n",
    "    elif row['purpose'] =='other':\n",
    "        return 'other' \n",
    "    elif row['purpose'] =='major_purchase':\n",
    "        return 'debt_consolidation' \n",
    "    elif row['purpose'] =='small_business':\n",
    "        return 'small_business' \n",
    "    elif row['purpose'] =='car':\n",
    "        return 'car' \n",
    "    elif row['purpose'] =='house':\n",
    "        return 'house' \n",
    "    elif row['purpose'] =='moving':\n",
    "        return 'moving' \n",
    "    elif row['purpose'] =='vacation':\n",
    "        return 'vacation' \n",
    "    elif row['purpose'] =='educational':\n",
    "        return 'educational' \n",
    "    elif row['purpose'] =='medical':\n",
    "        return 'medical' \n",
    "    elif row['purpose'] =='wedding':\n",
    "        return 'wedding'\n",
    "    elif row['purpose'] =='renewable_energy':\n",
    "        return 'renewable_energy' \n",
    "    else:\n",
    "        return 'other'\n",
    "\n",
    "Data['loan_intention_group'] = Data.apply(loan_intention_group, axis=1)"
   ]
  },
  {
   "cell_type": "code",
   "execution_count": 5,
   "id": "19d2c40f",
   "metadata": {},
   "outputs": [
    {
     "data": {
      "text/html": [
       "<div>\n",
       "<style scoped>\n",
       "    .dataframe tbody tr th:only-of-type {\n",
       "        vertical-align: middle;\n",
       "    }\n",
       "\n",
       "    .dataframe tbody tr th {\n",
       "        vertical-align: top;\n",
       "    }\n",
       "\n",
       "    .dataframe thead th {\n",
       "        text-align: right;\n",
       "    }\n",
       "</style>\n",
       "<table border=\"1\" class=\"dataframe\">\n",
       "  <thead>\n",
       "    <tr style=\"text-align: right;\">\n",
       "      <th></th>\n",
       "      <th></th>\n",
       "      <th>desc</th>\n",
       "    </tr>\n",
       "    <tr>\n",
       "      <th>loan_intention_group</th>\n",
       "      <th>purpose</th>\n",
       "      <th></th>\n",
       "    </tr>\n",
       "  </thead>\n",
       "  <tbody>\n",
       "    <tr>\n",
       "      <th>car</th>\n",
       "      <th>car</th>\n",
       "      <td>1955</td>\n",
       "    </tr>\n",
       "    <tr>\n",
       "      <th rowspan=\"3\" valign=\"top\">debt_consolidation</th>\n",
       "      <th>credit_card</th>\n",
       "      <td>25595</td>\n",
       "    </tr>\n",
       "    <tr>\n",
       "      <th>debt_consolidation</th>\n",
       "      <td>69638</td>\n",
       "    </tr>\n",
       "    <tr>\n",
       "      <th>major_purchase</th>\n",
       "      <td>3151</td>\n",
       "    </tr>\n",
       "    <tr>\n",
       "      <th>educational</th>\n",
       "      <th>educational</th>\n",
       "      <td>291</td>\n",
       "    </tr>\n",
       "    <tr>\n",
       "      <th rowspan=\"2\" valign=\"top\">house</th>\n",
       "      <th>home_improvement</th>\n",
       "      <td>7276</td>\n",
       "    </tr>\n",
       "    <tr>\n",
       "      <th>house</th>\n",
       "      <td>833</td>\n",
       "    </tr>\n",
       "    <tr>\n",
       "      <th>medical</th>\n",
       "      <th>medical</th>\n",
       "      <td>1007</td>\n",
       "    </tr>\n",
       "    <tr>\n",
       "      <th>moving</th>\n",
       "      <th>moving</th>\n",
       "      <td>791</td>\n",
       "    </tr>\n",
       "    <tr>\n",
       "      <th>renewable_energy</th>\n",
       "      <th>renewable_energy</th>\n",
       "      <td>130</td>\n",
       "    </tr>\n",
       "    <tr>\n",
       "      <th>small_business</th>\n",
       "      <th>small_business</th>\n",
       "      <td>2648</td>\n",
       "    </tr>\n",
       "    <tr>\n",
       "      <th>vacation</th>\n",
       "      <th>vacation</th>\n",
       "      <td>573</td>\n",
       "    </tr>\n",
       "    <tr>\n",
       "      <th>wedding</th>\n",
       "      <th>wedding</th>\n",
       "      <td>1236</td>\n",
       "    </tr>\n",
       "  </tbody>\n",
       "</table>\n",
       "</div>"
      ],
      "text/plain": [
       "                                          desc\n",
       "loan_intention_group purpose                  \n",
       "car                  car                  1955\n",
       "debt_consolidation   credit_card         25595\n",
       "                     debt_consolidation  69638\n",
       "                     major_purchase       3151\n",
       "educational          educational           291\n",
       "house                home_improvement     7276\n",
       "                     house                 833\n",
       "medical              medical              1007\n",
       "moving               moving                791\n",
       "renewable_energy     renewable_energy      130\n",
       "small_business       small_business       2648\n",
       "vacation             vacation              573\n",
       "wedding              wedding              1236"
      ]
     },
     "execution_count": 5,
     "metadata": {},
     "output_type": "execute_result"
    }
   ],
   "source": [
    "\n",
    "Data = Data[~Data['desc'].isna()]\n",
    "Data = Data[Data['desc']!='']\n",
    "Data = Data[Data['purpose']!='other']\n",
    "Data = Data[['desc','purpose','loan_intention_group']]\n",
    "Data.desc = Data.desc.str.replace('Borrower added on \\d\\d/\\d\\d/\\d\\d > ','',regex=True)\n",
    "Data.desc = Data.desc.str.replace('<(.*?)>','',regex=True)\n",
    "\n",
    "\n",
    "X = Data[['desc']]\n",
    "y = Data[['loan_intention_group']]\n",
    "\n",
    "Data.groupby(['loan_intention_group','purpose']).count()"
   ]
  },
  {
   "cell_type": "code",
   "execution_count": 6,
   "id": "ca6a7f10",
   "metadata": {},
   "outputs": [],
   "source": [
    "X_train, X_test, y_train, y_test = train_test_split(X, y, train_size=0.7, stratify = y)"
   ]
  },
  {
   "cell_type": "code",
   "execution_count": 7,
   "id": "6c5d73b9",
   "metadata": {},
   "outputs": [],
   "source": [
    "pipeline2 = Pipeline([\n",
    "        ('tfidf', TfidfVectorizer(analyzer='word', stop_words= 'english', ngram_range =(1,1))),\n",
    "        ('multiclass',OneVsRestClassifier(RandomForestClassifier(bootstrap = True, n_estimators = 75, n_jobs=-1)))])"
   ]
  },
  {
   "cell_type": "code",
   "execution_count": 8,
   "id": "575c08a4",
   "metadata": {},
   "outputs": [
    {
     "data": {
      "text/html": [
       "<style>#sk-container-id-1 {color: black;background-color: white;}#sk-container-id-1 pre{padding: 0;}#sk-container-id-1 div.sk-toggleable {background-color: white;}#sk-container-id-1 label.sk-toggleable__label {cursor: pointer;display: block;width: 100%;margin-bottom: 0;padding: 0.3em;box-sizing: border-box;text-align: center;}#sk-container-id-1 label.sk-toggleable__label-arrow:before {content: \"▸\";float: left;margin-right: 0.25em;color: #696969;}#sk-container-id-1 label.sk-toggleable__label-arrow:hover:before {color: black;}#sk-container-id-1 div.sk-estimator:hover label.sk-toggleable__label-arrow:before {color: black;}#sk-container-id-1 div.sk-toggleable__content {max-height: 0;max-width: 0;overflow: hidden;text-align: left;background-color: #f0f8ff;}#sk-container-id-1 div.sk-toggleable__content pre {margin: 0.2em;color: black;border-radius: 0.25em;background-color: #f0f8ff;}#sk-container-id-1 input.sk-toggleable__control:checked~div.sk-toggleable__content {max-height: 200px;max-width: 100%;overflow: auto;}#sk-container-id-1 input.sk-toggleable__control:checked~label.sk-toggleable__label-arrow:before {content: \"▾\";}#sk-container-id-1 div.sk-estimator input.sk-toggleable__control:checked~label.sk-toggleable__label {background-color: #d4ebff;}#sk-container-id-1 div.sk-label input.sk-toggleable__control:checked~label.sk-toggleable__label {background-color: #d4ebff;}#sk-container-id-1 input.sk-hidden--visually {border: 0;clip: rect(1px 1px 1px 1px);clip: rect(1px, 1px, 1px, 1px);height: 1px;margin: -1px;overflow: hidden;padding: 0;position: absolute;width: 1px;}#sk-container-id-1 div.sk-estimator {font-family: monospace;background-color: #f0f8ff;border: 1px dotted black;border-radius: 0.25em;box-sizing: border-box;margin-bottom: 0.5em;}#sk-container-id-1 div.sk-estimator:hover {background-color: #d4ebff;}#sk-container-id-1 div.sk-parallel-item::after {content: \"\";width: 100%;border-bottom: 1px solid gray;flex-grow: 1;}#sk-container-id-1 div.sk-label:hover label.sk-toggleable__label {background-color: #d4ebff;}#sk-container-id-1 div.sk-serial::before {content: \"\";position: absolute;border-left: 1px solid gray;box-sizing: border-box;top: 0;bottom: 0;left: 50%;z-index: 0;}#sk-container-id-1 div.sk-serial {display: flex;flex-direction: column;align-items: center;background-color: white;padding-right: 0.2em;padding-left: 0.2em;position: relative;}#sk-container-id-1 div.sk-item {position: relative;z-index: 1;}#sk-container-id-1 div.sk-parallel {display: flex;align-items: stretch;justify-content: center;background-color: white;position: relative;}#sk-container-id-1 div.sk-item::before, #sk-container-id-1 div.sk-parallel-item::before {content: \"\";position: absolute;border-left: 1px solid gray;box-sizing: border-box;top: 0;bottom: 0;left: 50%;z-index: -1;}#sk-container-id-1 div.sk-parallel-item {display: flex;flex-direction: column;z-index: 1;position: relative;background-color: white;}#sk-container-id-1 div.sk-parallel-item:first-child::after {align-self: flex-end;width: 50%;}#sk-container-id-1 div.sk-parallel-item:last-child::after {align-self: flex-start;width: 50%;}#sk-container-id-1 div.sk-parallel-item:only-child::after {width: 0;}#sk-container-id-1 div.sk-dashed-wrapped {border: 1px dashed gray;margin: 0 0.4em 0.5em 0.4em;box-sizing: border-box;padding-bottom: 0.4em;background-color: white;}#sk-container-id-1 div.sk-label label {font-family: monospace;font-weight: bold;display: inline-block;line-height: 1.2em;}#sk-container-id-1 div.sk-label-container {text-align: center;}#sk-container-id-1 div.sk-container {/* jupyter's `normalize.less` sets `[hidden] { display: none; }` but bootstrap.min.css set `[hidden] { display: none !important; }` so we also need the `!important` here to be able to override the default hidden behavior on the sphinx rendered scikit-learn.org. See: https://github.com/scikit-learn/scikit-learn/issues/21755 */display: inline-block !important;position: relative;}#sk-container-id-1 div.sk-text-repr-fallback {display: none;}</style><div id=\"sk-container-id-1\" class=\"sk-top-container\"><div class=\"sk-text-repr-fallback\"><pre>Pipeline(steps=[(&#x27;tfidf&#x27;, TfidfVectorizer(stop_words=&#x27;english&#x27;)),\n",
       "                (&#x27;multiclass&#x27;,\n",
       "                 OneVsRestClassifier(estimator=RandomForestClassifier(n_estimators=75,\n",
       "                                                                      n_jobs=-1)))])</pre><b>In a Jupyter environment, please rerun this cell to show the HTML representation or trust the notebook. <br />On GitHub, the HTML representation is unable to render, please try loading this page with nbviewer.org.</b></div><div class=\"sk-container\" hidden><div class=\"sk-item sk-dashed-wrapped\"><div class=\"sk-label-container\"><div class=\"sk-label sk-toggleable\"><input class=\"sk-toggleable__control sk-hidden--visually\" id=\"sk-estimator-id-1\" type=\"checkbox\" ><label for=\"sk-estimator-id-1\" class=\"sk-toggleable__label sk-toggleable__label-arrow\">Pipeline</label><div class=\"sk-toggleable__content\"><pre>Pipeline(steps=[(&#x27;tfidf&#x27;, TfidfVectorizer(stop_words=&#x27;english&#x27;)),\n",
       "                (&#x27;multiclass&#x27;,\n",
       "                 OneVsRestClassifier(estimator=RandomForestClassifier(n_estimators=75,\n",
       "                                                                      n_jobs=-1)))])</pre></div></div></div><div class=\"sk-serial\"><div class=\"sk-item\"><div class=\"sk-estimator sk-toggleable\"><input class=\"sk-toggleable__control sk-hidden--visually\" id=\"sk-estimator-id-2\" type=\"checkbox\" ><label for=\"sk-estimator-id-2\" class=\"sk-toggleable__label sk-toggleable__label-arrow\">TfidfVectorizer</label><div class=\"sk-toggleable__content\"><pre>TfidfVectorizer(stop_words=&#x27;english&#x27;)</pre></div></div></div><div class=\"sk-item sk-dashed-wrapped\"><div class=\"sk-label-container\"><div class=\"sk-label sk-toggleable\"><input class=\"sk-toggleable__control sk-hidden--visually\" id=\"sk-estimator-id-3\" type=\"checkbox\" ><label for=\"sk-estimator-id-3\" class=\"sk-toggleable__label sk-toggleable__label-arrow\">multiclass: OneVsRestClassifier</label><div class=\"sk-toggleable__content\"><pre>OneVsRestClassifier(estimator=RandomForestClassifier(n_estimators=75,\n",
       "                                                     n_jobs=-1))</pre></div></div></div><div class=\"sk-parallel\"><div class=\"sk-parallel-item\"><div class=\"sk-item\"><div class=\"sk-label-container\"><div class=\"sk-label sk-toggleable\"><input class=\"sk-toggleable__control sk-hidden--visually\" id=\"sk-estimator-id-4\" type=\"checkbox\" ><label for=\"sk-estimator-id-4\" class=\"sk-toggleable__label sk-toggleable__label-arrow\">estimator: RandomForestClassifier</label><div class=\"sk-toggleable__content\"><pre>RandomForestClassifier(n_estimators=75, n_jobs=-1)</pre></div></div></div><div class=\"sk-serial\"><div class=\"sk-item\"><div class=\"sk-estimator sk-toggleable\"><input class=\"sk-toggleable__control sk-hidden--visually\" id=\"sk-estimator-id-5\" type=\"checkbox\" ><label for=\"sk-estimator-id-5\" class=\"sk-toggleable__label sk-toggleable__label-arrow\">RandomForestClassifier</label><div class=\"sk-toggleable__content\"><pre>RandomForestClassifier(n_estimators=75, n_jobs=-1)</pre></div></div></div></div></div></div></div></div></div></div></div></div>"
      ],
      "text/plain": [
       "Pipeline(steps=[('tfidf', TfidfVectorizer(stop_words='english')),\n",
       "                ('multiclass',\n",
       "                 OneVsRestClassifier(estimator=RandomForestClassifier(n_estimators=75,\n",
       "                                                                      n_jobs=-1)))])"
      ]
     },
     "execution_count": 8,
     "metadata": {},
     "output_type": "execute_result"
    }
   ],
   "source": [
    "pipeline2.fit(list(X_train.desc), list(y_train.loan_intention_group))"
   ]
  },
  {
   "cell_type": "code",
   "execution_count": 9,
   "id": "b04f9918",
   "metadata": {},
   "outputs": [
    {
     "data": {
      "text/plain": [
       "0.9164688169552377"
      ]
     },
     "execution_count": 9,
     "metadata": {},
     "output_type": "execute_result"
    }
   ],
   "source": [
    "pipeline2.score(list(X_test.desc), list(y_test.loan_intention_group))"
   ]
  },
  {
   "cell_type": "code",
   "execution_count": 10,
   "id": "4e3afcad",
   "metadata": {},
   "outputs": [
    {
     "name": "stdout",
     "output_type": "stream",
     "text": [
      "                    precision    recall  f1-score   support\n",
      "\n",
      "               car       1.00      1.00      1.00       587\n",
      "debt_consolidation       0.97      1.00      0.98     29516\n",
      "       educational       0.00      0.00      0.00        87\n",
      "             house       1.00      1.00      1.00      2433\n",
      "           medical       1.00      1.00      1.00       302\n",
      "            moving       1.00      1.00      1.00       237\n",
      "  renewable_energy       0.00      0.00      0.00        39\n",
      "    small_business       0.00      0.00      0.00       794\n",
      "          vacation       1.00      1.00      1.00       172\n",
      "           wedding       1.00      1.00      1.00       371\n",
      "\n",
      "          accuracy                           0.97     34538\n",
      "         macro avg       0.70      0.70      0.70     34538\n",
      "      weighted avg       0.95      0.97      0.96     34538\n",
      "\n"
     ]
    }
   ],
   "source": [
    "y_pred = pipeline2.predict(list(y_test.loan_intention_group)) \n",
    "\n",
    "print(classification_report(y_test,y_pred, zero_division=0))"
   ]
  },
  {
   "cell_type": "code",
   "execution_count": 11,
   "id": "19ee2e8d-fd88-421e-afa4-5cff71025b60",
   "metadata": {},
   "outputs": [],
   "source": [
    "# save the NLP model\n",
    "filename = 'nlp_problem/saved_models/one_v_rest_random_forest.sav'\n",
    "pickle.dump(pipeline2, open(filename, 'wb'))"
   ]
  },
  {
   "cell_type": "code",
   "execution_count": 12,
   "id": "a8727140-8f89-4379-9129-fa48bd87b1b7",
   "metadata": {},
   "outputs": [],
   "source": [
    "X_test.to_csv('nlp_problem/nlp_test_data/X_test.csv', sep = '|')\n",
    "y_test.to_csv('nlp_problem/nlp_test_data/y_test.csv', sep = '|')"
   ]
  },
  {
   "cell_type": "code",
   "execution_count": 13,
   "id": "13b5eb47-6557-4717-844e-cdc9f82a7507",
   "metadata": {},
   "outputs": [
    {
     "data": {
      "text/plain": [
       "'16:37:29'"
      ]
     },
     "execution_count": 13,
     "metadata": {},
     "output_type": "execute_result"
    }
   ],
   "source": [
    "current_time()"
   ]
  }
 ],
 "metadata": {
  "kernelspec": {
   "display_name": "Python 3 (ipykernel)",
   "language": "python",
   "name": "python3"
  },
  "language_info": {
   "codemirror_mode": {
    "name": "ipython",
    "version": 3
   },
   "file_extension": ".py",
   "mimetype": "text/x-python",
   "name": "python",
   "nbconvert_exporter": "python",
   "pygments_lexer": "ipython3",
   "version": "3.9.7"
  }
 },
 "nbformat": 4,
 "nbformat_minor": 5
}
